{
 "cells": [
  {
   "cell_type": "code",
   "execution_count": 1,
   "id": "7ee02b28-b446-4ac7-92a4-9104f4cb38a9",
   "metadata": {},
   "outputs": [
    {
     "name": "stdout",
     "output_type": "stream",
     "text": [
      "################|| Downloading face-detection-adas-0001 ||################\n",
      "\n",
      "========== Downloading C:\\BrainAI\\face-detections\\intel\\face-detection-adas-0001\\FP16\\face-detection-adas-0001.xml\n",
      "... 100%, 304 KB, 330 KB/s, 0 seconds passed\n",
      "\n",
      "========== Downloading C:\\BrainAI\\face-detections\\intel\\face-detection-adas-0001\\FP16\\face-detection-adas-0001.bin\n",
      "... 49%, 1024 KB, 172 KB/s, 5 seconds passed\n",
      "... 99%, 2048 KB, 280 KB/s, 7 seconds passed\n",
      "... 100%, 2056 KB, 281 KB/s, 7 seconds passed\n",
      "\n"
     ]
    }
   ],
   "source": [
    "!omz_downloader --name face-detection-adas-0001 --precision FP16"
   ]
  },
  {
   "cell_type": "code",
   "execution_count": 15,
   "id": "a6f61204-6ad4-4776-9270-a52460c9e34c",
   "metadata": {},
   "outputs": [],
   "source": [
    "import openvino as ov\n",
    "import cv2\n",
    "import numpy as np\n",
    "\n",
    "import matplotlib.pyplot as plt\n",
    "from pathlib import Path"
   ]
  },
  {
   "cell_type": "code",
   "execution_count": 16,
   "id": "681ec364-a088-4e44-b3ee-e2f9f02fd263",
   "metadata": {},
   "outputs": [
    {
     "data": {
      "text/plain": [
       "['CPU', 'GPU']"
      ]
     },
     "execution_count": 16,
     "metadata": {},
     "output_type": "execute_result"
    }
   ],
   "source": [
    "core = ov.Core()\n",
    "options=core.available_devices\n",
    "\n",
    "options"
   ]
  },
  {
   "cell_type": "code",
   "execution_count": 17,
   "id": "51bf60b1-8674-4baa-9d2f-a7eb92a9e305",
   "metadata": {},
   "outputs": [],
   "source": [
    "image = cv2.imread(\"data/test.jpg\")\n",
    "resized_image = cv2.resize(src=image, dsize=(672, 384)) \n",
    "transposed_image = resized_image.transpose(2, 0, 1)\n",
    "input_image = np.expand_dims(transposed_image, 0)"
   ]
  },
  {
   "cell_type": "code",
   "execution_count": 18,
   "id": "9200c9cb-c9a0-41a6-9ce8-e77497b23321",
   "metadata": {},
   "outputs": [],
   "source": [
    "import openvino as ov"
   ]
  },
  {
   "cell_type": "code",
   "execution_count": 19,
   "id": "e9d54800-1331-4d3c-bab0-d3573568dc86",
   "metadata": {},
   "outputs": [
    {
     "name": "stdout",
     "output_type": "stream",
     "text": [
      "Input layer shape:  [1,3,384,672]\n",
      "Output layer shape:  [1,1,200,7]\n"
     ]
    }
   ],
   "source": [
    "core = ov.Core()\n",
    "\n",
    "model = core.read_model(model=\"models/face-detection-adas-0001.xml\")\n",
    "face_model = core.compile_model(model=model, device_name=\"CPU\")\n",
    "\n",
    "face_input_layer = face_model.input(0)\n",
    "face_output_layer = face_model.output(0)\n",
    "print(\"Input layer shape: \", face_input_layer.shape)\n",
    "print(\"Output layer shape: \", face_output_layer.shape)"
   ]
  },
  {
   "cell_type": "code",
   "execution_count": 20,
   "id": "16fcd088-755e-45b7-a907-3ea7f589c503",
   "metadata": {},
   "outputs": [],
   "source": [
    "face_output = face_model([input_image])[face_output_layer]"
   ]
  },
  {
   "cell_type": "code",
   "execution_count": 21,
   "id": "4ae3a125-940d-4f4f-acc9-3631cf2b78a7",
   "metadata": {},
   "outputs": [],
   "source": [
    "def DrawBoundingBoxes(output, image, conf):\n",
    "    canvas = image.copy()\n",
    "    h,w,_ = canvas.shape\n",
    "\n",
    "    predictions = output[0][0]\n",
    "    confidence = predictions[:,2]\n",
    "    top_predictions = predictions[(confidence>conf)]\n",
    "\n",
    "    for detection in top_predictions:\n",
    "        box = detection[3:7] * np.array([w, h, w, h])\n",
    "        (xmin, ymin, xmax, ymax) = box.astype(\"int\")\n",
    "        cv2.rectangle(canvas, (xmin, ymin), (xmax, ymax), (0,0,255),2)\n",
    "\n",
    "    return canvas"
   ]
  },
  {
   "cell_type": "code",
   "execution_count": 22,
   "id": "e1549a8a-684c-495a-9d42-6323d030f148",
   "metadata": {},
   "outputs": [],
   "source": [
    "def AddBackground(frame, bg):\n",
    "\n",
    "    frame_h, frame_w = frame.shape[0], frame.shape[1]\n",
    "    new_h = 500\n",
    "    new_w = int((new_h/frame_h)*frame_w)\n",
    "    frame_resize = cv2.resize(frame, (new_w, new_h))\n",
    "\n",
    "    xmax = bg.shape[1] - 350\n",
    "    ymax = bg.shape[0] - 175\n",
    "    xmin = xmax - new_w\n",
    "    ymin = ymax - new_h\n",
    "\n",
    "    bg[ymin:ymax, xmin:xmax] = frame_resize\n",
    "\n",
    "    return bg"
   ]
  },
  {
   "cell_type": "code",
   "execution_count": 29,
   "id": "8506852f-3e79-4f43-ac8b-a5084bb247e2",
   "metadata": {},
   "outputs": [],
   "source": [
    "camera = cv2.VideoCapture(0) #create a VideoCapture object with the 'first' camera (your webcam)\n",
    "background = \"./data/Background.jpg\"\n",
    "bg = cv2.imread(background)\n",
    "\n",
    "while(True):\n",
    "    ret, frame = camera.read()             # Capture frame by frame      \n",
    "    if ret == False:\n",
    "        break\n",
    "    \n",
    "    resized_frame = cv2.resize(src=frame, dsize=(672, 384)) \n",
    "    transposed_frame = resized_frame.transpose(2, 0, 1)\n",
    "    input_frame = np.expand_dims(transposed_frame, 0)    \n",
    "    \n",
    "    face_output = face_model([input_frame])[face_output_layer]\n",
    "\n",
    "    canvas = DrawBoundingBoxes(face_output, frame, conf=0.5)\n",
    "    deployment = AddBackground(canvas, bg)\n",
    "    \n",
    "    cv2.imshow('Press Spacebar to Exit', deployment)\n",
    "\n",
    "    if cv2.waitKey(1) & 0xFF == ord(' '):  # Stop if spacebar is detected\n",
    "        break\n",
    "\n",
    "camera.release()                           # Cleanup after spacebar is detected.\n",
    "cv2.destroyAllWindows()"
   ]
  }
 ],
 "metadata": {
  "kernelspec": {
   "display_name": "Python 3 (ipykernel)",
   "language": "python",
   "name": "python3"
  },
  "language_info": {
   "codemirror_mode": {
    "name": "ipython",
    "version": 3
   },
   "file_extension": ".py",
   "mimetype": "text/x-python",
   "name": "python",
   "nbconvert_exporter": "python",
   "pygments_lexer": "ipython3",
   "version": "3.11.8"
  }
 },
 "nbformat": 4,
 "nbformat_minor": 5
}
